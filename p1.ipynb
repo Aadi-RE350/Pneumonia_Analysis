{
 "cells": [
  {
   "cell_type": "code",
   "execution_count": 16,
   "id": "1b7e35ce-bee3-4b84-b4f9-34e89664deaa",
   "metadata": {},
   "outputs": [],
   "source": [
    "import pandas as pd\n",
    "from sklearn.model_selection import train_test_split\n",
    "from sklearn.ensemble import RandomForestClassifier\n",
    "from sklearn.naive_bayes import GaussianNB\n",
    "from sklearn.linear_model import LogisticRegression\n",
    "from sklearn.tree import DecisionTreeClassifier\n",
    "from sklearn.preprocessing import OneHotEncoder\n",
    "from sklearn.compose import ColumnTransformer\n",
    "from sklearn.metrics import accuracy_score, classification_report"
   ]
  },
  {
   "cell_type": "code",
   "execution_count": 18,
   "id": "10a07057-706a-4f63-8e5c-78a502ca2ec5",
   "metadata": {},
   "outputs": [],
   "source": [
    "data = pd.read_csv(\"pneumonia_blood_test_data.csv\")\n"
   ]
  },
  {
   "cell_type": "code",
   "execution_count": 19,
   "id": "ea241bf4-8d4a-4174-aa19-c868b50c13a3",
   "metadata": {},
   "outputs": [],
   "source": [
    "X = data[['Age', 'Gender', 'Symptoms', 'White_Blood_Cell_Count', 'CRP_Level', 'Procalcitonin_Level', 'ESR_Level']]\n",
    "y = data['Diagnosis']\n"
   ]
  },
  {
   "cell_type": "code",
   "execution_count": 20,
   "id": "88913725-c64a-40d6-88b7-cc02e93aa13b",
   "metadata": {},
   "outputs": [],
   "source": [
    "categorical_columns = ['Gender', 'Symptoms']\n"
   ]
  },
  {
   "cell_type": "code",
   "execution_count": 21,
   "id": "47ee66af-6d8d-449a-bc4f-405b0cf3170d",
   "metadata": {},
   "outputs": [],
   "source": [
    "column_transformer = ColumnTransformer([('one_hot_encoder', OneHotEncoder(), categorical_columns)], remainder='passthrough')\n",
    "X_encoded = column_transformer.fit_transform(X)"
   ]
  },
  {
   "cell_type": "code",
   "execution_count": 22,
   "id": "f83dc810-3b51-4fc1-8252-886d8924eb1c",
   "metadata": {},
   "outputs": [],
   "source": [
    "X_encoded = X_encoded.toarray()\n"
   ]
  },
  {
   "cell_type": "code",
   "execution_count": 23,
   "id": "789aedc7-7a4a-4ef9-b04f-9ada56b045bf",
   "metadata": {},
   "outputs": [],
   "source": [
    "X_train, X_test, y_train, y_test = train_test_split(X_encoded, y, test_size=0.2, random_state=42)\n"
   ]
  },
  {
   "cell_type": "code",
   "execution_count": 24,
   "id": "d000d61f-312a-42d4-a274-4774d0a1e5f1",
   "metadata": {},
   "outputs": [],
   "source": [
    "classifiers = {\n",
    "    \"Logistic Regression\": LogisticRegression(max_iter=1000, random_state=42),\n",
    "    \"Random Forest\": RandomForestClassifier(n_estimators=100, random_state=42),\n",
    "    \"Naive Bayes\": GaussianNB(),\n",
    "    \"Decision Tree\": DecisionTreeClassifier(random_state=42)\n",
    "}"
   ]
  },
  {
   "cell_type": "code",
   "execution_count": 27,
   "id": "dd5d4dfe-11a7-41fc-a650-f57f8c62e0ba",
   "metadata": {},
   "outputs": [],
   "source": [
    "for clf_name, clf in classifiers.items():\n",
    "    clf.fit(X_train, y_train)\n"
   ]
  },
  {
   "cell_type": "code",
   "execution_count": 28,
   "id": "a5e5a809-9d59-432c-ad8e-8814619054f7",
   "metadata": {},
   "outputs": [],
   "source": [
    "    y_pred = clf.predict(X_test)\n"
   ]
  },
  {
   "cell_type": "code",
   "execution_count": 29,
   "id": "588a5431-5d8b-48c3-b3a5-a02f77a7036e",
   "metadata": {},
   "outputs": [],
   "source": [
    "    accuracy = accuracy_score(y_test, y_pred)\n"
   ]
  },
  {
   "cell_type": "code",
   "execution_count": 31,
   "id": "769c0166-83b3-412f-8f32-6d5b07f8e26b",
   "metadata": {},
   "outputs": [
    {
     "name": "stdout",
     "output_type": "stream",
     "text": [
      "Decision Tree Accuracy: 0.8180987202925045\n",
      "Decision Tree Classification Report:\n",
      "              precision    recall  f1-score   support\n",
      "\n",
      "No Pneumonia       0.88      0.88      0.88       820\n",
      "   Pneumonia       0.64      0.64      0.64       274\n",
      "\n",
      "    accuracy                           0.82      1094\n",
      "   macro avg       0.76      0.76      0.76      1094\n",
      "weighted avg       0.82      0.82      0.82      1094\n",
      "\n",
      "\n",
      "\n"
     ]
    }
   ],
   "source": [
    "print(f\"{clf_name} Accuracy:\", accuracy)\n",
    "print(f\"{clf_name} Classification Report:\")\n",
    "print(classification_report(y_test, y_pred))\n",
    "print(\"\\n\")"
   ]
  },
  {
   "cell_type": "code",
   "execution_count": 32,
   "id": "f60dbe0e-a6dc-4dc9-b927-05acf507180c",
   "metadata": {},
   "outputs": [
    {
     "name": "stdout",
     "output_type": "stream",
     "text": [
      "Random Forest Accuracy: 0.8327239488117002\n",
      "Random Forest Classification Report:\n",
      "              precision    recall  f1-score   support\n",
      "\n",
      "No Pneumonia       0.82      1.00      0.90       820\n",
      "   Pneumonia       0.97      0.34      0.51       274\n",
      "\n",
      "    accuracy                           0.83      1094\n",
      "   macro avg       0.89      0.67      0.70      1094\n",
      "weighted avg       0.86      0.83      0.80      1094\n",
      "\n",
      "\n",
      "\n"
     ]
    }
   ],
   "source": [
    "# Initialize classifiers\n",
    "classifiers = {\n",
    "    \"Random Forest\": RandomForestClassifier(n_estimators=100, random_state=42),\n",
    "}\n",
    "\n",
    "# Train and evaluate classifiers\n",
    "for clf_name, clf in classifiers.items():\n",
    "    # Train the classifier\n",
    "    clf.fit(X_train, y_train)\n",
    "    \n",
    "    # Predict on the test set\n",
    "    y_pred = clf.predict(X_test)\n",
    "    \n",
    "    # Calculate accuracy\n",
    "    accuracy = accuracy_score(y_test, y_pred)\n",
    "    \n",
    "    # Print results for each classifier\n",
    "    print(f\"{clf_name} Accuracy:\", accuracy)\n",
    "    print(f\"{clf_name} Classification Report:\")\n",
    "    print(classification_report(y_test, y_pred))\n",
    "    print(\"\\n\")\n"
   ]
  },
  {
   "cell_type": "code",
   "execution_count": 33,
   "id": "814965e0-dce6-4654-9f7f-b2ea4d911a4c",
   "metadata": {},
   "outputs": [
    {
     "name": "stdout",
     "output_type": "stream",
     "text": [
      "Naive Bayes Accuracy: 0.8793418647166362\n",
      "Naive Bayes Classification Report:\n",
      "              precision    recall  f1-score   support\n",
      "\n",
      "No Pneumonia       0.91      0.93      0.92       820\n",
      "   Pneumonia       0.78      0.72      0.75       274\n",
      "\n",
      "    accuracy                           0.88      1094\n",
      "   macro avg       0.84      0.83      0.84      1094\n",
      "weighted avg       0.88      0.88      0.88      1094\n",
      "\n"
     ]
    }
   ],
   "source": [
    "naive_bayes = GaussianNB()\n",
    "\n",
    "# Train the classifier\n",
    "naive_bayes.fit(X_train, y_train)\n",
    "\n",
    "# Predict on the test set\n",
    "y_pred = naive_bayes.predict(X_test)\n",
    "\n",
    "# Calculate accuracy\n",
    "accuracy = accuracy_score(y_test, y_pred)\n",
    "\n",
    "# Print results for Naive Bayes classifier\n",
    "print(\"Naive Bayes Accuracy:\", accuracy)\n",
    "print(\"Naive Bayes Classification Report:\")\n",
    "print(classification_report(y_test, y_pred))"
   ]
  },
  {
   "cell_type": "code",
   "execution_count": null,
   "id": "8e11b807-01c1-4ceb-a36c-f04c4edd678c",
   "metadata": {},
   "outputs": [],
   "source": []
  }
 ],
 "metadata": {
  "kernelspec": {
   "display_name": "Python 3 (ipykernel)",
   "language": "python",
   "name": "python3"
  },
  "language_info": {
   "codemirror_mode": {
    "name": "ipython",
    "version": 3
   },
   "file_extension": ".py",
   "mimetype": "text/x-python",
   "name": "python",
   "nbconvert_exporter": "python",
   "pygments_lexer": "ipython3",
   "version": "3.11.0"
  }
 },
 "nbformat": 4,
 "nbformat_minor": 5
}
